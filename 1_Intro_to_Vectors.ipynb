{
 "cells": [
  {
   "cell_type": "markdown",
   "metadata": {},
   "source": [
    "# MATH 202: Linear Algebra\n",
    "# Introduction to Vectors\n",
    "\n",
    "This page contains introductory material, videos and some computer code pertaining to the MATH 202 course "
   ]
  },
  {
   "cell_type": "markdown",
   "metadata": {},
   "source": [
    "## Meta-notes\n",
    "\n",
    "This page is stuctrured as a Jupyter Notebook, which combines text, media and computer code in a unified interface. You can read more about Jupyter Noteeboks [here](https://jupyter4edu.github.io/jupyter-edu-book/why-we-use-jupyter-notebooks.html#but-first-what-is-jupyter-notebook) if you're interested.\n",
    "\n",
    "This page, and the rest of this course, will use code from a scientific programming software called [GNU Octave](https://www.gnu.org/software/octave/) to illustrate concepts related to Vectors, Matrices and Linear Algebra.\n",
    "\n",
    "### Task 1: Use the download link from the GNU Octave linked above to download the software on your laptop. \n",
    "\n",
    "If your laptop uses Windows,  please use [this link](https://ftpmirror.gnu.org/octave/windows/octave-5.2.0_1-w64-installer.exe)\n",
    "\n",
    "If you have a Mac, please follow the instructions on [this site](https://wiki.octave.org/Octave_for_macOS)"
   ]
  },
  {
   "cell_type": "markdown",
   "metadata": {},
   "source": [
    "## What are vectors?\n",
    "\n",
    "Most of you would've come across the concept of vectors in your high school physics courses. Vectors can be defined as entities that represent both a magnitude and a direction. For example, the velocity of a body is a vector, since it specifies both a magnitude (speed) and a direction.\n",
    "\n",
    "This definition is apt for what are known as geometric vectors, or Euclidean vectors. However, vectors can be thought of as more abstract, non-geometric objects. To get a better understanding of this, **Please watch the video below for an introduction to different types of vectors** "
   ]
  },
  {
   "cell_type": "code",
   "execution_count": 1,
   "metadata": {},
   "outputs": [
    {
     "data": {
      "text/html": [
       "<iframe width=\"560\" height=\"315\" src=\"https://www.youtube.com/embed/pfea4YSq-mA\" frameborder=\"0\" allow=\"accelerometer; autoplay; encrypted-media; gyroscope; picture-in-picture\" allowfullscreen></iframe>"
      ],
      "text/plain": [
       "<IPython.core.display.HTML object>"
      ]
     },
     "metadata": {},
     "output_type": "display_data"
    }
   ],
   "source": [
    "%%html\n",
    "<iframe width=\"560\" height=\"315\" src=\"https://www.youtube.com/embed/pfea4YSq-mA\" frameborder=\"0\" allow=\"accelerometer; autoplay; encrypted-media; gyroscope; picture-in-picture\" allowfullscreen></iframe>"
   ]
  },
  {
   "cell_type": "markdown",
   "metadata": {},
   "source": [
    "## Geometric representation of vectors\n",
    "\n",
    "Let's consider a vector such as $ A = \\begin{bmatrix} 2 \\\\ 4 \\\\ \\end{bmatrix} $. Since A has 2 values it can be represented in a 2-dimensional geometric space. We can take a look at the geometric representation by executing the simple Octave code shown in the cell below. To execute the code in any cell, **click within the cell and then press the Ctrl + Enter keys together**"
   ]
  },
  {
   "cell_type": "code",
   "execution_count": null,
   "metadata": {},
   "outputs": [],
   "source": [
    "A = [2;4];\n",
    "disp('A=')\n",
    "disp(A)\n",
    "h=quiver(0,0,A(1),A(2),s=1,'k-');\n",
    "set (h, \"maxheadsize\", 0.03);\n",
    "h=text(0.8,2.3,'A');\n",
    "set(h,\"fontsize\",15);\n",
    "xlim([0 10]);ylim([0 10]);grid on\n",
    "hold on;\n",
    "h=quiver(0,0,4,4,s=1,'k-');\n",
    "set (h, \"maxheadsize\", 0.03);\n",
    "h=text(3,2.3,'B');\n",
    "set(h,\"fontsize\",15);\n"
   ]
  },
  {
   "cell_type": "markdown",
   "metadata": {},
   "source": [
    "### Note\n",
    "\n",
    "We see that the vector A corresponds to a line that extends to 2 units in the X-axis and 4 units in the Y-axis.\n",
    "\n",
    "If you've taken a basic programming course before, you will recognize that we created a **variable** named A and assigned the vector $A=\\begin{bmatrix} 2 \\\\ 4 \\end{bmatrix}$ to this variable. If you look a little closer, you will also see that the individual elements of this vector, *A(1)* and *A(2)* were referred to by the quiver command (this is used for plotting arrows on a graph; we'll get back to this in a few weeks). \n",
    "\n",
    "What does the vector B in the graph above correspond to?\n",
    "\n",
    "Let's explore this a little further by executing the code in the cell below. **Remember that you need to click into the cell and press Ctrl+Enter simultaneously** "
   ]
  },
  {
   "cell_type": "code",
   "execution_count": null,
   "metadata": {},
   "outputs": [],
   "source": [
    "disp('The dimensions of vector A are')\n",
    "disp(size(A))\n",
    "\n",
    "B=[1 5 3]\n",
    "disp('The dimensions of vector A are')\n",
    "disp(size(B))"
   ]
  },
  {
   "cell_type": "markdown",
   "metadata": {},
   "source": [
    "## Note\n",
    "\n",
    "The code above displays the dimensions of the vector in (row column) format. So, vector A has 2 rows and only 1 column. It is a **column vector**. On the other hand, B has 1 row and 3 columns. It is a **row vector**.\n",
    "\n",
    "### Task 2: Based on the code examples above, can you understand what the command *disp* does? Can you edit the disp command in the next cell to print your full name\n",
    "\n",
    "(Reminder: Ctrl+ Enter to execute code)"
   ]
  },
  {
   "cell_type": "code",
   "execution_count": null,
   "metadata": {},
   "outputs": [],
   "source": [
    "% Edit the line below to print your full name\n",
    "disp('Who Areyou')\n"
   ]
  },
  {
   "cell_type": "code",
   "execution_count": null,
   "metadata": {},
   "outputs": [],
   "source": [
    "## Adding two vectors "
   ]
  },
  {
   "cell_type": "code",
   "execution_count": null,
   "metadata": {},
   "outputs": [],
   "source": [
    "## Multiplying a vector with a scalar"
   ]
  },
  {
   "cell_type": "code",
   "execution_count": null,
   "metadata": {},
   "outputs": [],
   "source": [
    "## "
   ]
  }
 ],
 "metadata": {
  "kernelspec": {
   "display_name": "Octave",
   "language": "octave",
   "name": "octave"
  },
  "language_info": {
   "file_extension": ".m",
   "help_links": [
    {
     "text": "GNU Octave",
     "url": "https://www.gnu.org/software/octave/support.html"
    },
    {
     "text": "Octave Kernel",
     "url": "https://github.com/Calysto/octave_kernel"
    },
    {
     "text": "MetaKernel Magics",
     "url": "https://metakernel.readthedocs.io/en/latest/source/README.html"
    }
   ],
   "mimetype": "text/x-octave",
   "name": "octave",
   "version": "5.2.0"
  }
 },
 "nbformat": 4,
 "nbformat_minor": 4
}
